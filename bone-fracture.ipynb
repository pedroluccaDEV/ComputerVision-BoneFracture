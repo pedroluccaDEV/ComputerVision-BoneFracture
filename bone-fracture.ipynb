{
 "cells": [
  {
   "cell_type": "code",
   "execution_count": null,
   "metadata": {},
   "outputs": [
    {
     "ename": "NameError",
     "evalue": "name 'ImageDataGenerator' is not defined",
     "output_type": "error",
     "traceback": [
      "\u001b[31m---------------------------------------------------------------------------\u001b[39m",
      "\u001b[31mNameError\u001b[39m                                 Traceback (most recent call last)",
      "\u001b[36mCell\u001b[39m\u001b[36m \u001b[39m\u001b[32mIn[6]\u001b[39m\u001b[32m, line 13\u001b[39m\n\u001b[32m     10\u001b[39m epochs = \u001b[32m10\u001b[39m  \u001b[38;5;66;03m# Número de épocas de treinamento\u001b[39;00m\n\u001b[32m     12\u001b[39m \u001b[38;5;66;03m# Data Augmentation para aumentar a diversidade dos dados\u001b[39;00m\n\u001b[32m---> \u001b[39m\u001b[32m13\u001b[39m train_datagen = \u001b[43mImageDataGenerator\u001b[49m(\n\u001b[32m     14\u001b[39m     rescale=\u001b[32m1.\u001b[39m/\u001b[32m255\u001b[39m,  \u001b[38;5;66;03m# Normaliza os pixels (0 a 1)\u001b[39;00m\n\u001b[32m     15\u001b[39m     rotation_range=\u001b[32m20\u001b[39m,  \n\u001b[32m     16\u001b[39m     width_shift_range=\u001b[32m0.2\u001b[39m,  \n\u001b[32m     17\u001b[39m     height_shift_range=\u001b[32m0.2\u001b[39m,  \n\u001b[32m     18\u001b[39m     horizontal_flip=\u001b[38;5;28;01mTrue\u001b[39;00m,  \n\u001b[32m     19\u001b[39m     zoom_range=\u001b[32m0.2\u001b[39m\n\u001b[32m     20\u001b[39m )\n\u001b[32m     22\u001b[39m val_datagen = ImageDataGenerator(rescale=\u001b[32m1.\u001b[39m/\u001b[32m255\u001b[39m)  \u001b[38;5;66;03m# Apenas normaliza\u001b[39;00m\n\u001b[32m     24\u001b[39m \u001b[38;5;66;03m# Carregar imagens das pastas automaticamente\u001b[39;00m\n",
      "\u001b[31mNameError\u001b[39m: name 'ImageDataGenerator' is not defined"
     ]
    }
   ],
   "source": [
    "import tensorflow as tf\n",
    "from tensorflow.keras.models import Sequential\n",
    "from tensorflow.keras.layers import Conv2D, MaxPooling2D, Flatten, Dense, Dropout\n",
    "from tensorflow.keras.preprocessing.image import ImageDataGenerator\n",
    "\n",
    "\n",
    "# Caminho para o dataset (alterar conforme necessário)\n",
    "dataset_path = \"archive (4)/dataset\"  # Ex: \"C:/Users/SeuNome/Dataset\"\n",
    "S\n",
    "# Parâmetros\n",
    "img_size = 224  # Tamanho da imagem\n",
    "batch_size = 32  # Número de imagens processadas por vez\n",
    "epochs = 10  # Número de épocas de treinamento\n",
    "\n",
    "# Data Augmentation para aumentar a diversidade dos dados\n",
    "train_datagen = ImageDataGenerator(\n",
    "    rescale=1./255,  # Normaliza os pixels (0 a 1)\n",
    "    rotation_range=20,  \n",
    "    width_shift_range=0.2,  \n",
    "    height_shift_range=0.2,  \n",
    "    horizontal_flip=True,  \n",
    "    zoom_range=0.2\n",
    ")\n",
    "\n",
    "val_datagen = ImageDataGenerator(rescale=1./255)  # Apenas normaliza\n",
    "\n",
    "# Carregar imagens das pastas automaticamente\n",
    "train_generator = train_datagen.flow_from_directory(\n",
    "    dataset_path + \"/train\",\n",
    "    target_size=(img_size, img_size),\n",
    "    batch_size=batch_size,\n",
    "    class_mode=\"binary\"\n",
    ")\n",
    "\n",
    "val_generator = val_datagen.flow_from_directory(\n",
    "    dataset_path + \"/val\",\n",
    "    target_size=(img_size, img_size),\n",
    "    batch_size=batch_size,\n",
    "    class_mode=\"binary\"\n",
    ")\n",
    "\n",
    "# Criando a CNN\n",
    "model = Sequential([\n",
    "    Conv2D(32, (3,3), activation='relu', input_shape=(img_size, img_size, 3)),\n",
    "    MaxPooling2D(2,2),\n",
    "    \n",
    "    Conv2D(64, (3,3), activation='relu'),\n",
    "    MaxPooling2D(2,2),\n",
    "    \n",
    "    Conv2D(128, (3,3), activation='relu'),\n",
    "    MaxPooling2D(2,2),\n",
    "    \n",
    "    Flatten(),\n",
    "    Dense(128, activation='relu'),\n",
    "    Dropout(0.5),  # Evita overfitting\n",
    "    Dense(1, activation='sigmoid')  # Saída binária (fraturado ou não)\n",
    "])\n",
    "\n",
    "# Compilar o modelo\n",
    "model.compile(optimizer=\"adam\", loss=\"binary_crossentropy\", metrics=[\"accuracy\"])\n",
    "\n",
    "# Treinar o modelo\n",
    "history = model.fit(\n",
    "    train_generator,\n",
    "    validation_data=val_generator,\n",
    "    epochs=epochs\n",
    ")\n",
    "\n",
    "# Salvar o modelo treinado\n",
    "model.save(\"bone_fracture_detector.h5\")\n",
    "\n",
    "print(\"✅ Modelo treinado e salvo com sucesso!\")\n"
   ]
  }
 ],
 "metadata": {
  "kernelspec": {
   "display_name": "Python 3",
   "language": "python",
   "name": "python3"
  },
  "language_info": {
   "codemirror_mode": {
    "name": "ipython",
    "version": 3
   },
   "file_extension": ".py",
   "mimetype": "text/x-python",
   "name": "python",
   "nbconvert_exporter": "python",
   "pygments_lexer": "ipython3",
   "version": "3.11.9"
  }
 },
 "nbformat": 4,
 "nbformat_minor": 2
}
